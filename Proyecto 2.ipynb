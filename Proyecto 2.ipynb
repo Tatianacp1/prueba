{
  "nbformat": 4,
  "nbformat_minor": 0,
  "metadata": {
    "colab": {
      "name": "Untitled1.ipynb",
      "provenance": [],
      "collapsed_sections": []
    },
    "kernelspec": {
      "name": "python3",
      "display_name": "Python 3"
    },
    "language_info": {
      "name": "python"
    }
  },
  "cells": [
    {
      "cell_type": "code",
      "metadata": {
        "id": "HVYBWEgZb1ui"
      },
      "source": [
        "ppp\n",
        "class Consumidor:\n",
        "\n",
        "  def __init__(self,salario:float,riquezas:float):\n",
        "    self.salario=salario\n",
        "    self.riquezas=riquezas\n",
        "\n",
        "\n",
        "  def trabajar(self):\n",
        "    if self.salario == 0:\n",
        "      self.salario=int(input('El salario del consumidor es de:' ))#Salario fijo\n",
        "    else:\n",
        "      self.riquezas=self.riquezas + self.salario\n",
        "      print(f'El dinero actual del consumidor es:{self.riquezas} pesos')\n",
        "  \n",
        "  def comprar (self,compra:float):\n",
        "    if self.riquezas >= compra:\n",
        "        self.riquezas= self.riquezas-compra\n",
        "        print(f'El consumidor ha comprado el objeto, le quedan: {self.riquezas} pesos')\n",
        "    elif self.riquezas==0:\n",
        "      print('Al consumidor no le queda dinero para comprar')\n",
        "    else:\n",
        "      print(f'El consumidor solo tiene {self.riquezas} pesos para gastar')\n",
        "      "
      ],
      "execution_count": 187,
      "outputs": []
    },
    {
      "cell_type": "code",
      "metadata": {
        "id": "HDUlo69kfSXO"
      },
      "source": [
        "c_1=Consumidor(0,0)"
      ],
      "execution_count": 188,
      "outputs": []
    },
    {
      "cell_type": "code",
      "metadata": {
        "colab": {
          "base_uri": "https://localhost:8080/"
        },
        "id": "u2AAq3TAfac7",
        "outputId": "193d98ec-2aa3-4eff-db8c-b7791e32f5b7"
      },
      "source": [
        "c_1.trabajar()"
      ],
      "execution_count": 193,
      "outputs": [
        {
          "output_type": "stream",
          "text": [
            "El dinero actual del consumidor es:2000 pesos\n"
          ],
          "name": "stdout"
        }
      ]
    },
    {
      "cell_type": "code",
      "metadata": {
        "colab": {
          "base_uri": "https://localhost:8080/"
        },
        "id": "hPxWLdQzfruH",
        "outputId": "17e7d343-9499-4bf0-9a2b-4b5b913568e7"
      },
      "source": [
        "c_1.trabajar()"
      ],
      "execution_count": 194,
      "outputs": [
        {
          "output_type": "stream",
          "text": [
            "El dinero actual del consumidor es:2500 pesos\n"
          ],
          "name": "stdout"
        }
      ]
    },
    {
      "cell_type": "code",
      "metadata": {
        "colab": {
          "base_uri": "https://localhost:8080/"
        },
        "id": "Npqq-Z6slHdl",
        "outputId": "302d4371-8886-4889-e41a-8c99f4a31c5f"
      },
      "source": [
        "c_1.comprar(2500)"
      ],
      "execution_count": 195,
      "outputs": [
        {
          "output_type": "stream",
          "text": [
            "El consumidor ha comprado el objeto, le quedan: 0 pesos\n"
          ],
          "name": "stdout"
        }
      ]
    },
    {
      "cell_type": "code",
      "metadata": {
        "id": "NmV3uWXwr3oA"
      },
      "source": [
        ""
      ],
      "execution_count": null,
      "outputs": []
    }
  ]
}
